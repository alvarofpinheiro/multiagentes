{
  "cells": [
    {
      "cell_type": "markdown",
      "metadata": {
        "id": "8Z1Resfr-roy"
      },
      "source": [
        "Contexto"
      ]
    },
    {
      "cell_type": "code",
      "source": [
        "#Instalação das bibliotecas\n",
        "!pip install --q crewai\n",
        "!pip install --q 'crewai[tools]'\n",
        "!pip install --q langchain_groq\n",
        "!pip install --q langchain_chatOpenAI\n",
        "!pip install --q dotenv\n",
        "!pip install --q textwrap3"
      ],
      "metadata": {
        "id": "sPiQTGZLeNFf",
        "colab": {
          "base_uri": "https://localhost:8080/"
        },
        "collapsed": true,
        "outputId": "97a735fa-e962-4d3f-a523-f691f5a32dd4"
      },
      "execution_count": null,
      "outputs": [
        {
          "output_type": "stream",
          "name": "stdout",
          "text": [
            "\u001b[31mERROR: Could not find a version that satisfies the requirement langchain_chatOpenAI (from versions: none)\u001b[0m\u001b[31m\n",
            "\u001b[0m\u001b[31mERROR: No matching distribution found for langchain_chatOpenAI\u001b[0m\u001b[31m\n",
            "\u001b[0m  \u001b[1;31merror\u001b[0m: \u001b[1msubprocess-exited-with-error\u001b[0m\n",
            "  \n",
            "  \u001b[31m×\u001b[0m \u001b[32mpython setup.py egg_info\u001b[0m did not run successfully.\n",
            "  \u001b[31m│\u001b[0m exit code: \u001b[1;36m1\u001b[0m\n",
            "  \u001b[31m╰─>\u001b[0m See above for output.\n",
            "  \n",
            "  \u001b[1;35mnote\u001b[0m: This error originates from a subprocess, and is likely not a problem with pip.\n",
            "  Preparing metadata (setup.py) ... \u001b[?25l\u001b[?25herror\n",
            "\u001b[1;31merror\u001b[0m: \u001b[1mmetadata-generation-failed\u001b[0m\n",
            "\n",
            "\u001b[31m×\u001b[0m Encountered error while generating package metadata.\n",
            "\u001b[31m╰─>\u001b[0m See above for output.\n",
            "\n",
            "\u001b[1;35mnote\u001b[0m: This is an issue with the package mentioned above, not pip.\n",
            "\u001b[1;36mhint\u001b[0m: See above for details.\n"
          ]
        }
      ]
    },
    {
      "cell_type": "code",
      "execution_count": null,
      "metadata": {
        "id": "0OwFfk8q86IA"
      },
      "outputs": [],
      "source": [
        "#Importação das bibliotecas\n",
        "import os\n",
        "from crewai_tools.tools.scrape_website_tool.scrape_website_tool import ScrapeWebsiteTool\n",
        "from dotenv import load_dotenv\n",
        "from datetime import datetime\n",
        "from crewai import Agent, Task, Crew, Process\n",
        "from langchain_openai import ChatOpenAI\n",
        "from langchain_groq import ChatGroq\n",
        "from textwrap import dedent"
      ]
    },
    {
      "cell_type": "code",
      "execution_count": null,
      "metadata": {
        "id": "gpf8UTcu8069",
        "colab": {
          "base_uri": "https://localhost:8080/"
        },
        "outputId": "d2cef1bf-fc59-4deb-b707-9659f7aa87ec"
      },
      "outputs": [
        {
          "output_type": "execute_result",
          "data": {
            "text/plain": [
              "False"
            ]
          },
          "metadata": {},
          "execution_count": 3
        }
      ],
      "source": [
        "#Obtenção das variáveis de ambiente do aruivo .env\n",
        "load_dotenv()"
      ]
    },
    {
      "cell_type": "code",
      "execution_count": null,
      "metadata": {
        "id": "IbQM0PwjCP5K"
      },
      "outputs": [],
      "source": [
        "#Configuração das chaves de API\n",
        "open_api_key = os.getenv(\"OPEN_API_KEY\")\n",
        "groq_api_key = os.getenv(\"GROQ_API_KEY\")"
      ]
    },
    {
      "cell_type": "code",
      "execution_count": null,
      "metadata": {
        "id": "rnAAAOA6CUvh",
        "colab": {
          "base_uri": "https://localhost:8080/",
          "height": 200
        },
        "outputId": "4f32af05-2ebd-4bcb-fe00-6179061b8284"
      },
      "outputs": [
        {
          "output_type": "error",
          "ename": "NameError",
          "evalue": "name 'openai_api_key' is not defined",
          "traceback": [
            "\u001b[0;31m---------------------------------------------------------------------------\u001b[0m",
            "\u001b[0;31mNameError\u001b[0m                                 Traceback (most recent call last)",
            "\u001b[0;32m<ipython-input-5-5ab291009f00>\u001b[0m in \u001b[0;36m<cell line: 2>\u001b[0;34m()\u001b[0m\n\u001b[1;32m      1\u001b[0m \u001b[0;31m#Configuração das LLMs (GENAIs)\u001b[0m\u001b[0;34m\u001b[0m\u001b[0;34m\u001b[0m\u001b[0m\n\u001b[0;32m----> 2\u001b[0;31m \u001b[0mllm_gpt35\u001b[0m \u001b[0;34m=\u001b[0m \u001b[0mChatOpenAI\u001b[0m\u001b[0;34m(\u001b[0m\u001b[0mmodel\u001b[0m\u001b[0;34m=\u001b[0m\u001b[0;34m\"gpt-3.5-turbo\"\u001b[0m\u001b[0;34m,\u001b[0m \u001b[0mapi_key\u001b[0m\u001b[0;34m=\u001b[0m\u001b[0mopenai_api_key\u001b[0m\u001b[0;34m)\u001b[0m\u001b[0;34m\u001b[0m\u001b[0;34m\u001b[0m\u001b[0m\n\u001b[0m\u001b[1;32m      3\u001b[0m \u001b[0mllm_gpt4o\u001b[0m \u001b[0;34m=\u001b[0m \u001b[0mChatOpenAI\u001b[0m\u001b[0;34m(\u001b[0m\u001b[0mmodel\u001b[0m\u001b[0;34m=\u001b[0m\u001b[0;34m\"gpt-4o\"\u001b[0m\u001b[0;34m,\u001b[0m \u001b[0mapi_key\u001b[0m\u001b[0;34m=\u001b[0m\u001b[0mopenai_api_key\u001b[0m\u001b[0;34m)\u001b[0m\u001b[0;34m\u001b[0m\u001b[0;34m\u001b[0m\u001b[0m\n\u001b[1;32m      4\u001b[0m \u001b[0mllm_llama3\u001b[0m \u001b[0;34m=\u001b[0m \u001b[0mChatGroq\u001b[0m\u001b[0;34m(\u001b[0m\u001b[0mmodel\u001b[0m\u001b[0;34m=\u001b[0m\u001b[0;34m\"llhama3-70b-8192\"\u001b[0m\u001b[0;34m,\u001b[0m \u001b[0mapi_key\u001b[0m\u001b[0;34m=\u001b[0m\u001b[0mgroq_apy_key\u001b[0m\u001b[0;34m)\u001b[0m\u001b[0;34m\u001b[0m\u001b[0;34m\u001b[0m\u001b[0m\n",
            "\u001b[0;31mNameError\u001b[0m: name 'openai_api_key' is not defined"
          ]
        }
      ],
      "source": [
        "#Configuração das LLMs (GENAIs)\n",
        "llm_gpt35 = ChatOpenAI(model=\"gpt-3.5-turbo\", api_key=openai_api_key)\n",
        "llm_gpt4o = ChatOpenAI(model=\"gpt-4o\", api_key=openai_api_key)\n",
        "llm_llama3 = ChatGroq(model=\"llhama3-70b-8192\", api_key=groq_apy_key)"
      ]
    },
    {
      "cell_type": "code",
      "execution_count": null,
      "metadata": {
        "id": "3JEx3C3u83EF"
      },
      "outputs": [],
      "source": [
        "#Configuração do Scrapweb\n",
        "def criar_scrape_tools(urls):\n",
        "    tools = []\n",
        "    for url in urls:\n",
        "        tool = ScrapeWebsiteTool(website_url=url)\n",
        "        tools.append(tool)\n",
        "    return tools"
      ]
    },
    {
      "cell_type": "code",
      "source": [
        "#Criação dos agentes\n",
        "orquestrator = Agent(\n",
        "    role=\"Gerente dos agentes\",\n",
        "    goal=\"Gerenciar o conteúdo gerado pelos agentes pesquisadores sobre {topic}.\",\n",
        "    backstory=\"irá trabalhar na orquestração (gerenciamento) de {n} agentes para organizar os resultados sobre o {topic}.\",\n",
        "    verbose=True,\n",
        "    max_rpm=1,\n",
        "    llm=llm_gpt4o\n",
        ")\n",
        "pesquisador = Agent(\n",
        "    role=\"Pesquisar\",\n",
        "    goal=\"Pesquisar as tendências sobre {topic}.\",\n",
        "    backstory=\"é uma pesquisador experiente, que busca as tendências sobre {topic}.\",\n",
        "    verbose=True,\n",
        "    tools=urls,\n",
        "    llm=llm_gpt4o\n",
        ")\n",
        "publicador = Agent(\n",
        "    role=\"Publicador\",\n",
        "    goal=\"Escrever as tendências sobre {topic}.\",\n",
        "    backstory=\"é um escritor experiente, que escreve o resultado das buscas dos pesquisadores em português do Brasil formal e no estilo científico sobre o {topic}.\",\n",
        "    verbose=True,\n",
        "    tools=urls,\n",
        "    llm=llm_gpt35\n",
        ")\n",
        "Instagramador = Agent(\n",
        "    role=\"Instagramador\",\n",
        "    goal=\"Gerar imagens e vídeos impactantes sobre {topic}.\",\n",
        "    backstory=\"é um instagramador experiente, que gera imagens e vídeos atraentes sobre o {topic}.\",\n",
        "    verbose=True,\n",
        "    tools=urls,\n",
        "    llm=llm_llama3\n",
        ")"
      ],
      "metadata": {
        "id": "OyU8Zs48Xr7O"
      },
      "execution_count": null,
      "outputs": []
    },
    {
      "cell_type": "code",
      "source": [
        "#Definição das atividades\n",
        "revisa_task = Task(\n",
        "    description=(\n",
        "        \"1. Encontrar as últimas tendências sobre {topic}\\n\"\n",
        "        \"2. Focar no público que se interessa sobre Inteligência Artificial\\n\"\n",
        "        \"3. Construir uma introdução, pontos chaves e uma chamada envolvente\\n\"\n",
        "        \"4. Incluir as palavras-chaves e fontes.\"\n",
        "    ),\n",
        "    expected_output=\"Uma postagem sobre {topic} com {n} posts\",\n",
        "    agent=orquestrador,\n",
        "    allow_delegation=False,\n",
        "    verbose=True\n",
        ")\n",
        "pesquisa_task = Task(\n",
        "    description=(\"Pesquisar as últimas tendêcias sobre {topic}.\"),\n",
        "        expected_output=\"Encontrar as notícias mais relevantes sobre {topic} na área de Inteligência Artificial\",\n",
        "        agent=pesquisador,\n",
        "        allow_delegation=False,\n",
        "        verbose=True\n",
        ")\n",
        "escreve_task = Task(\n",
        "    description=(\"Pesquisar as últimas tendêcias sobre {topic}.\"),\n",
        "        expected_output=\"Escrever {n} postagens sobre {topic}\",\n",
        "        agent=publicador,\n",
        "        allow_delegation=False,\n",
        "        verbose=True\n",
        ")\n",
        "desenha_task = Task(\n",
        "    description=(\"Pesquisar as últimas tendêcias sobre {topic}.\"),\n",
        "        expected_output=\"Escrever {n} postagens sobre {topic}\",\n",
        "        agent=Instagramador,\n",
        "        allow_delegation=False,\n",
        "        verbose=True\n",
        ")"
      ],
      "metadata": {
        "id": "r8-AcO6wcgvk"
      },
      "execution_count": null,
      "outputs": []
    },
    {
      "cell_type": "code",
      "source": [
        "#Definição das URLs\n",
        "#URLs\n",
        "urls = [\n",
        "    'https://www.tecmundo.com.br'\n",
        "    'https://www.techtudo.com.br'\n",
        "]"
      ],
      "metadata": {
        "id": "p0ga9vzHl8KL"
      },
      "execution_count": null,
      "outputs": []
    },
    {
      "cell_type": "code",
      "source": [
        "#Definição da saída\n",
        "crew = Crew(\n",
        "    agents = [pesquisador, publicador, instgramador, orquestrador],\n",
        "    tasks = [pesquisa_task, escreve_task, desenha_task, revisa_task],\n",
        "    process = Process.sequential,\n",
        "    verbose = True,\n",
        "    memory = True,\n",
        ")\n",
        "criar_scrape_tools(urls)\n",
        "resultado = crew.kickoff(inputs={\n",
        "    'topic':'Multiagentes',\n",
        "    'n':1\n",
        "})\n",
        "print(resultado)"
      ],
      "metadata": {
        "id": "BZUrzKsAdqie"
      },
      "execution_count": null,
      "outputs": []
    }
  ],
  "metadata": {
    "colab": {
      "provenance": []
    },
    "kernelspec": {
      "display_name": "Python 3",
      "name": "python3"
    }
  },
  "nbformat": 4,
  "nbformat_minor": 0
}